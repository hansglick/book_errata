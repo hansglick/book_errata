{
  "nbformat": 4,
  "nbformat_minor": 0,
  "metadata": {
    "colab": {
      "name": "p010_Custom_Loop_GAN.ipynb",
      "provenance": [],
      "collapsed_sections": [],
      "authorship_tag": "ABX9TyMTGXnDXBpms2D6CbLMUjU1",
      "include_colab_link": true
    },
    "kernelspec": {
      "name": "python3",
      "display_name": "Python 3"
    },
    "language_info": {
      "name": "python"
    }
  },
  "cells": [
    {
      "cell_type": "markdown",
      "metadata": {
        "id": "view-in-github",
        "colab_type": "text"
      },
      "source": [
        "<a href=\"https://colab.research.google.com/github/hansglick/book_errata/blob/main/p010_Custom_Loop_GAN.ipynb\" target=\"_parent\"><img src=\"https://colab.research.google.com/assets/colab-badge.svg\" alt=\"Open In Colab\"/></a>"
      ]
    },
    {
      "cell_type": "code",
      "execution_count": 80,
      "metadata": {
        "colab": {
          "base_uri": "https://localhost:8080/"
        },
        "id": "fM9IpGfrW3yf",
        "outputId": "56a1f908-86b7-485c-9da7-9dc324a06992"
      },
      "outputs": [
        {
          "output_type": "stream",
          "name": "stdout",
          "text": [
            "2.8.2\n"
          ]
        }
      ],
      "source": [
        "import numpy as np\n",
        "import tensorflow as tf\n",
        "import os\n",
        "from IPython.display import clear_output\n",
        "import matplotlib.pyplot as plt\n",
        "print(tf.__version__)"
      ]
    },
    {
      "cell_type": "markdown",
      "source": [
        "# Objectif\n",
        "\n",
        "Designer un GAN et entraîner via un custom loop :\n",
        " * Créer un discriminator avec API Sequential\n",
        "   * Photo 28*28 Noir et Blanc\n",
        "   * Convolution, filters = 64, kernel = (3,3), strides = (2,2), padding \"same\"\n",
        "   * LeakyRelu, alpha = 0.2\n",
        "   * Convolution, filters = 128, kernel = (3,3), strides = (2,2), padding \"same\"\n",
        "   * LeakyRelu, alpha = 0.2\n",
        "   * GlobalMaxPooling2D\n",
        "   * Dense, unit = 1\n",
        " * Créer le générateur avec API Sequential\n",
        "   * Input de taille 128\n",
        "   * Dense de 7*7*128 units\n",
        "   * LeakyRelu alpha 0.2\n",
        "   * Reshape afin d'avoir une image 7,7,128\n",
        "   * Conv2DTranspose, avec filters = 128, kernel = (4,4), strides = (2,2) padding \"same\"\n",
        "   * LeakyRelu alpha 0.2\n",
        "   * Conv2DTranspose, avec filters = 128, kernel = (4,4), strides = (2,2) padding \"same\"\n",
        "   * Conv2d, filters = 1, kernels = 7,7, padding same, activation sigmoid\n",
        " * Instancier les optimizers pour les deux modeles\n",
        " * Instancier une loss binary pour logits\n",
        " * Wrapping via un decorateur pr le mode graph de la fonction qui se charge d'un training step :     \n",
        "   * input image réelle\n",
        "   * Draw random normal points de taille égale batch,latent dim (128)\n",
        "   * Decode les random points via le generateur\n",
        "   * Concaténer les fake images et des vrai images via `tf.concat([generated_images, real_images], axis=0)`\n",
        "   * Soustraire au vecteur concaténation construit ci-dessus de l'uniform * 0.5, ce serait un trick important apparemment\n",
        "   * Mettre à jour les gradients du discriminator\n",
        "   * Sampler des random points dans le latent space batch size, latent dim\n",
        "   * Création d'un misleading labels vector qui est en fait un veteur colonne de taille batch size rempli de zéros\n",
        "   * Mise à jour des poids du generateur, assez subtil donc je le mis ici, j'ai pas compris grand chose au GAN\n",
        "   * Renvoyer le triplet :  d_loss, g_loss, generated_images\n",
        "\n",
        "``\n",
        "predictions = discriminator(generator(random_latent_vectors))\n",
        "g_loss = loss_fn(misleading_labels, predictions)\n",
        "grads = tape.gradient(g_loss, generator.trainable_weights)\n",
        "g_optimizer.apply_gradients(zip(grads, generator.trainable_weights))\n",
        "``\n",
        "\n",
        " * Préparation du dataset\n",
        "   * batch 64\n",
        "   * `keras.datasets.mnist.load_data()`\n",
        "   * prendre les données du train et du test et les concaténer dans un seul dataset\n",
        "   * Pourquoi np.reshape(all_digits, (-1, 28, 28, 1))\n",
        "   * buffer_size=1024\n",
        "   * /255 et float\n",
        "   * fix epoch to 20, attention ce peut être très long\n",
        " * Créer la custom loop, sur epoch, batch\n",
        "   * Appeler le train step\n",
        "   * Création de la log avec affichage loss discriminator et generator\n",
        "   * Afficher une image générer de temps à autre via `tf.keras.preprocessing.image.array_to_img`"
      ],
      "metadata": {
        "id": "wCHTDXPHXFhv"
      }
    },
    {
      "cell_type": "code",
      "source": [
        "# Création du discriminator \n",
        "#   * Photo 28*28 Noir et Blanc\n",
        "#   * Convolution, filters = 64, kernel = (3,3), strides = (2,2), padding \"same\"\n",
        "#   * LeakyRelu, alpha = 0.2\n",
        "#   * Convolution, filters = 128, kernel = (3,3), strides = (2,2), padding \"same\"\n",
        "#   * LeakyRelu, alpha = 0.2\n",
        "#   * GlobalMaxPooling2D\n",
        "#   * Dense, unit = 1\n",
        "\n",
        "discriminator = tf.keras.Sequential([\n",
        "                                     tf.keras.layers.Input(shape=(28,28,1),dtype = \"float32\"),\n",
        "\n",
        "                                     tf.keras.layers.Conv2D(filters = 64,\n",
        "                                                            kernel_size = (3,3),\n",
        "                                                            strides = (2,2),\n",
        "                                                            padding=\"same\"),\n",
        "\n",
        "                                     tf.keras.layers.LeakyReLU(alpha=0.2),\n",
        "\n",
        "                                     tf.keras.layers.Conv2D(filters=128,\n",
        "                                                            kernel_size=(3,3),\n",
        "                                                            strides=(2,2),\n",
        "                                                            padding=\"same\"),\n",
        "                                     \n",
        "                                     tf.keras.layers.LeakyReLU(alpha=0.2),\n",
        "\n",
        "                                     tf.keras.layers.GlobalMaxPooling2D(),\n",
        "\n",
        "                                     tf.keras.layers.Dense(units=1)\n",
        "],name=\"discriminator\")"
      ],
      "metadata": {
        "id": "2nQkN22DkMnv"
      },
      "execution_count": 81,
      "outputs": []
    },
    {
      "cell_type": "code",
      "source": [
        "# Création du Generator\n",
        "#   * Input de taille 128\n",
        "#   * Dense de 7*7*128 units\n",
        "#   * LeakyRelu alpha 0.2\n",
        "#   * Reshape afin d'avoir une image 7,7,128\n",
        "#   * Conv2DTranspose, avec filters = 128, kernel = (4,4), strides = (2,2) padding \"same\"\n",
        "#   * LeakyRelu alpha 0.2\n",
        "#   * Conv2DTranspose, avec filters = 128, kernel = (4,4), strides = (2,2) padding \"same\"\n",
        "#   * Conv2d, filters = 1, kernels = 7,7, padding same, activation sigmoid\n",
        "\n",
        "generator = tf.keras.Sequential([\n",
        "                 tf.keras.layers.Input(shape=(128,),dtype=\"float32\"),\n",
        "\n",
        "                 tf.keras.layers.Dense(units=7*7*128),\n",
        "\n",
        "                 tf.keras.layers.LeakyReLU(alpha=0.2),\n",
        "\n",
        "                 tf.keras.layers.Reshape(target_shape=(7,7,128)),\n",
        "\n",
        "                 tf.keras.layers.Conv2DTranspose(filters=128,\n",
        "                                                 kernel_size=(4,4),\n",
        "                                                 strides=(2,2),\n",
        "                                                 padding=\"same\"),\n",
        "\n",
        "                 tf.keras.layers.LeakyReLU(alpha=0.2),\n",
        "\n",
        "                 tf.keras.layers.Conv2DTranspose(filters=128,\n",
        "                                                 kernel_size=(4,4),\n",
        "                                                 strides=(2,2),\n",
        "                                                 padding=\"same\"),\n",
        "\n",
        "                 tf.keras.layers.Conv2D(filters=1,\n",
        "                                        kernel_size=(7,7),\n",
        "                                        padding=\"same\",\n",
        "                                        activation=\"sigmoid\")                 \n",
        "],name=\"generator\")"
      ],
      "metadata": {
        "id": "U17i9STcr9gU"
      },
      "execution_count": 82,
      "outputs": []
    },
    {
      "cell_type": "code",
      "source": [
        "# Instancier optimizer du generator, du discriminator, et la loss binary\n",
        "generator_optimizer = tf.keras.optimizers.Adam(learning_rate=0.0004)\n",
        "discriminator_optimizer = tf.keras.optimizers.Adam(learning_rate=0.0003)\n",
        "loss = tf.keras.losses.BinaryCrossentropy(from_logits=True)"
      ],
      "metadata": {
        "id": "DQEkZgECuFey"
      },
      "execution_count": 83,
      "outputs": []
    },
    {
      "cell_type": "code",
      "source": [
        "# Autres parameters\n",
        "batch_size = 64"
      ],
      "metadata": {
        "id": "LlQUVKTUv1DZ"
      },
      "execution_count": 84,
      "outputs": []
    },
    {
      "cell_type": "code",
      "source": [
        "# Function training step\n",
        "#   * input image réelle\n",
        "#   * Draw random normal points de taille égale batch,latent dim (128)\n",
        "#   * Decode les random points via le generateur\n",
        "#   * Concaténer les fake images et des vrai images via `tf.concat([generated_images, real_images], axis=0)`\n",
        "#   * Soustraire au vecteur concaténation construit ci-dessus de l'uniform * 0.5, ce serait un trick important apparemment\n",
        "#   * Mettre à jour les gradients du discriminator\n",
        "#   * Sampler des random points dans le latent space batch size, latent dim\n",
        "#   * Création d'un misleading labels vector qui est en fait un veteur colonne de taille batch size rempli de zéros\n",
        "#   * Mise à jour des poids du generateur, assez subtil donc je le mis ici, j'ai pas compris grand chose au GAN\n",
        "#   * Renvoyer le triplet :  d_loss, g_loss, generated_images\n",
        "#``\n",
        "#predictions = discriminator(generator(random_latent_vectors))\n",
        "#g_loss = loss_fn(misleading_labels, predictions)\n",
        "#grads = tape.gradient(g_loss, generator.trainable_weights)\n",
        "#g_optimizer.apply_gradients(zip(grads, generator.trainable_weights))\n",
        "#``\n",
        "\n",
        "@tf.function\n",
        "def training_step(batch_images_real):\n",
        "\n",
        "  # Génération d'un vecteur bruit latent de taille 128\n",
        "  noise = tf.random.normal(shape=(batch_size,128))\n",
        "\n",
        "  # Génération d'images à partir du bruit\n",
        "  generated_images = generator(noise)\n",
        "\n",
        "  # Création d'un dataset avec fake images label 1, images réelles label 0\n",
        "  images_dataset = tf.concat([generated_images,batch_images_real],axis=0)\n",
        "  z = tf.zeros(shape=(batch_size,1))\n",
        "  o = tf.ones(shape=(batch_size,1))\n",
        "  labels = tf.concat([o,z],axis=0)\n",
        "\n",
        "  # Bruiter le vecteur labels\n",
        "  labels = labels + 0.5 * tf.random.normal(shape=labels.shape)\n",
        "\n",
        "  # Mise à jour des poids du discriminator\n",
        "  with tf.GradientTape() as tape:\n",
        "\n",
        "    # Prédictions du discriminator\n",
        "    # Calcul de la loss\n",
        "    discriminator_predictions = discriminator(images_dataset)\n",
        "    discriminator_loss = loss(labels,discriminator_predictions)\n",
        "  \n",
        "  # Calcul des gradients\n",
        "  # Mise à jour des poids\n",
        "  grads = tape.gradient(discriminator_loss,discriminator.trainable_weights)\n",
        "  discriminator_optimizer.apply_gradients(zip(grads,discriminator.trainable_weights))\n",
        "\n",
        "\n",
        "  # * * * \n",
        "\n",
        "  # Générer du bruit dans l'espace latent\n",
        "  noise = tf.random.normal(shape=(batch_size,128))\n",
        "\n",
        "  # Création du missleading labels, des labels représentant des réelles images\n",
        "  missleading_labels = tf.zeros(shape=(batch_size,1))\n",
        "\n",
        "  # Mise à jour des poids du générateur\n",
        "  with tf.GradientTape() as tape:\n",
        "\n",
        "    # Predictions du discriminator des images nouvellement générées par le generateur\n",
        "    predicted_images = discriminator(generator(noise))\n",
        "    generator_loss = loss(missleading_labels,predicted_images)\n",
        "\n",
        "  # Récupération des gradients\n",
        "  # Mise à jour des poids du generator\n",
        "  grads = tape.gradient(generator_loss,generator.trainable_weights)\n",
        "  generator_optimizer.apply_gradients(zip(grads,generator.trainable_weights))\n",
        "\n",
        "  \n",
        "  # retourner le triplet generator_loss,discriminator_loss,generated_images\n",
        "  return generator_loss,discriminator_loss,generated_images\n",
        "\n",
        "\n"
      ],
      "metadata": {
        "id": "8YRvHGM3uwYV"
      },
      "execution_count": 85,
      "outputs": []
    },
    {
      "cell_type": "code",
      "source": [
        "# Préparation du dataset\n",
        "#   * batch 64\n",
        "#   * `keras.datasets.mnist.load_data()`\n",
        "#   * prendre les données du train et du test et les concaténer dans un seul dataset\n",
        "#   * Pourquoi np.reshape(all_digits, (-1, 28, 28, 1))\n",
        "#   * buffer_size=1024\n",
        "#   * /255 et float\n",
        "#   * fix epoch to 20, attention ce peut être très long\n",
        "\n",
        "(xtrain,_),(xtest,_) = tf.keras.datasets.mnist.load_data()\n",
        "all_digits = np.concatenate((xtrain,xtest),axis=0)\n",
        "all_digits = np.reshape(all_digits,newshape=(-1,28,28,1))\n",
        "all_digits = all_digits / 255.0\n",
        "all_digits = all_digits.astype(\"float32\")\n",
        "dataset = tf.data.Dataset.from_tensor_slices(all_digits)\n",
        "dataset = dataset.shuffle(buffer_size=1024).batch(64)\n",
        "\n",
        "epochs = 1"
      ],
      "metadata": {
        "id": "gYsPJNRrx4P7"
      },
      "execution_count": 86,
      "outputs": []
    },
    {
      "cell_type": "code",
      "source": [
        "# Créer la custom loop\n",
        "#   * Appeler le train step\n",
        "#   * Création de la log avec affichage loss discriminator et generator\n",
        "#   * Afficher une image générer de temps à autre via `tf.keras.preprocessing.image.array_to_img`\n",
        "\n",
        "for _ in range(epochs):\n",
        "\n",
        "  for step,batch_data in enumerate(dataset):\n",
        "\n",
        "    # Le training step\n",
        "    generator_loss,discriminator_loss, generated_images = training_step(batch_data)\n",
        "\n",
        "    # Affichage des logs tout les 200 steps (batchs)\n",
        "    if step % 10 == 0:\n",
        "      print(\"Steps : %d | Generator Loss : %2f. \" % (step,generator_loss))\n",
        "      print(\"Steps : %d | Discriminator Loss : %2f. \" % (step,discriminator_loss))\n",
        "\n",
        "\n",
        "      # Enregistrement d'une image générée\n",
        "      # tf.keras.preprocessing.image.array_to_img prend un numpy array 0-255\n",
        "      # Le scale doit etre défini à False\n",
        "      # On sauve ensuite l'image au format PNG avec la méthode .save(path)\n",
        "      img = tf.keras.preprocessing.image.array_to_img(generated_images[0] * 255, scale = False)\n",
        "      path_image = os.path.join(\"./\",\"generated_\"+str(step)+\".png\")\n",
        "      \n",
        "      #clear_output()\n",
        "      image_array = generated_images[0].numpy().squeeze()\n",
        "      plt.imshow( image_array * 255)\n",
        "      plt.show()\n",
        "\n",
        "\n",
        "    # On stoppe l'apprentissage, car c'est trèslong\n",
        "    if step > 1000:\n",
        "      break\n"
      ],
      "metadata": {
        "colab": {
          "base_uri": "https://localhost:8080/",
          "height": 1000
        },
        "id": "utbqoXEV8HaR",
        "outputId": "7e385462-d1eb-41d2-95fa-af68512a85c5"
      },
      "execution_count": null,
      "outputs": [
        {
          "output_type": "stream",
          "name": "stdout",
          "text": [
            "Steps : 0 | Generator Loss : 0.668459. \n",
            "Steps : 0 | Discriminator Loss : 0.685247. \n"
          ]
        },
        {
          "output_type": "display_data",
          "data": {
            "text/plain": [
              "<Figure size 432x288 with 1 Axes>"
            ],
            "image/png": "[encoded data removed]"
          },
          "metadata": {
            "needs_background": "light"
          }
        },
        {
          "output_type": "stream",
          "name": "stdout",
          "text": [
            "Steps : 10 | Generator Loss : 0.710447. \n",
            "Steps : 10 | Discriminator Loss : 0.617268. \n"
          ]
        },
        {
          "output_type": "display_data",
          "data": {
            "text/plain": [
              "<Figure size 432x288 with 1 Axes>"
            ],
            "image/png": "[encoded data removed]"
          },
          "metadata": {
            "needs_background": "light"
          }
        },
        {
          "output_type": "stream",
          "name": "stdout",
          "text": [
            "Steps : 20 | Generator Loss : 0.781457. \n",
            "Steps : 20 | Discriminator Loss : 0.573720. \n"
          ]
        },
        {
          "output_type": "display_data",
          "data": {
            "text/plain": [
              "<Figure size 432x288 with 1 Axes>"
            ],
            "image/png": "[encoded data removed]"
          },
          "metadata": {
            "needs_background": "light"
          }
        },
        {
          "output_type": "stream",
          "name": "stdout",
          "text": [
            "Steps : 30 | Generator Loss : 0.928972. \n",
            "Steps : 30 | Discriminator Loss : 0.448133. \n"
          ]
        },
        {
          "output_type": "display_data",
          "data": {
            "text/plain": [
              "<Figure size 432x288 with 1 Axes>"
            ],
            "image/png": "[encoded data removed]"
          },
          "metadata": {
            "needs_background": "light"
          }
        },
        {
          "output_type": "stream",
          "name": "stdout",
          "text": [
            "Steps : 40 | Generator Loss : 1.171865. \n",
            "Steps : 40 | Discriminator Loss : 0.355927. \n"
          ]
        },
        {
          "output_type": "display_data",
          "data": {
            "text/plain": [
              "<Figure size 432x288 with 1 Axes>"
            ],
            "image/png": "[encoded data removed]"
          },
          "metadata": {
            "needs_background": "light"
          }
        },
        {
          "output_type": "stream",
          "name": "stdout",
          "text": [
            "Steps : 50 | Generator Loss : 0.991007. \n",
            "Steps : 50 | Discriminator Loss : 0.339932. \n"
          ]
        },
        {
          "output_type": "display_data",
          "data": {
            "text/plain": [
              "<Figure size 432x288 with 1 Axes>"
            ],
            "image/png": "[encoded data removed]"
          },
          "metadata": {
            "needs_background": "light"
          }
        },
        {
          "output_type": "stream",
          "name": "stdout",
          "text": [
            "Steps : 60 | Generator Loss : 0.368858. \n",
            "Steps : 60 | Discriminator Loss : 0.732897. \n"
          ]
        },
        {
          "output_type": "display_data",
          "data": {
            "text/plain": [
              "<Figure size 432x288 with 1 Axes>"
            ],
            "image/png": "[encoded data removed]"
          },
          "metadata": {
            "needs_background": "light"
          }
        },
        {
          "output_type": "stream",
          "name": "stdout",
          "text": [
            "Steps : 70 | Generator Loss : 0.777587. \n",
            "Steps : 70 | Discriminator Loss : 0.592743. \n"
          ]
        },
        {
          "output_type": "display_data",
          "data": {
            "text/plain": [
              "<Figure size 432x288 with 1 Axes>"
            ],
            "image/png": "[encoded data removed]"
          },
          "metadata": {
            "needs_background": "light"
          }
        },
        {
          "output_type": "stream",
          "name": "stdout",
          "text": [
            "Steps : 80 | Generator Loss : 1.172569. \n",
            "Steps : 80 | Discriminator Loss : 0.330690. \n"
          ]
        },
        {
          "output_type": "display_data",
          "data": {
            "text/plain": [
              "<Figure size 432x288 with 1 Axes>"
            ],
            "image/png": "[encoded data removed]"
          },
          "metadata": {
            "needs_background": "light"
          }
        },
        {
          "output_type": "stream",
          "name": "stdout",
          "text": [
            "Steps : 90 | Generator Loss : 0.881583. \n",
            "Steps : 90 | Discriminator Loss : 0.376504. \n"
          ]
        },
        {
          "output_type": "display_data",
          "data": {
            "text/plain": [
              "<Figure size 432x288 with 1 Axes>"
            ],
            "image/png": "[encoded data removed]"
          },
          "metadata": {
            "needs_background": "light"
          }
        }
      ]
    },
    {
      "cell_type": "code",
      "source": [
        "# A faire\n",
        "# Comprendre pourquoi on peut pas rescale sur un dataset.map(lambda a : a/255.)\n",
        "\n",
        "# A savoir\n",
        "# Conv2D réduit une image, augumente sa profondeur\n",
        "# Upsampling agrandit une image bêtement\n",
        "# Conv2Transpose agrandit une image en apprenant des poids\n",
        "# Pour concaténer des tensors : tf.concat([generated_images, real_images], axis=0)\n",
        "# Afin de rajouter une dimension, pour passer de 700,28,28 à 700,28,28,1 : np.reshape(all_digits,newshape=(-1,28,28,1))\n",
        "# Bonne pratique pourles logs : print(\"discriminator loss at step %d: %.2f\" % (step, d_loss))"
      ],
      "metadata": {
        "id": "6fEYmyqR7_vA"
      },
      "execution_count": null,
      "outputs": []
    }
  ]
}