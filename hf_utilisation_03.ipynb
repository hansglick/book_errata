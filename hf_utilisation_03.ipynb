{
  "nbformat": 4,
  "nbformat_minor": 0,
  "metadata": {
    "colab": {
      "name": "hf_utilisation_03.ipynb",
      "provenance": [],
      "authorship_tag": "ABX9TyOxEnUdl3c9e22H/xB0Py9G",
      "include_colab_link": true
    },
    "kernelspec": {
      "name": "python3",
      "display_name": "Python 3"
    },
    "language_info": {
      "name": "python"
    }
  },
  "cells": [
    {
      "cell_type": "markdown",
      "metadata": {
        "id": "view-in-github",
        "colab_type": "text"
      },
      "source": [
        "<a href=\"https://colab.research.google.com/github/hansglick/book_errata/blob/main/hf_utilisation_03.ipynb\" target=\"_parent\"><img src=\"https://colab.research.google.com/assets/colab-badge.svg\" alt=\"Open In Colab\"/></a>"
      ]
    },
    {
      "cell_type": "code",
      "source": [
        "!pip install transformers"
      ],
      "metadata": {
        "id": "RVl45KsL_qE3"
      },
      "execution_count": null,
      "outputs": []
    },
    {
      "cell_type": "code",
      "execution_count": null,
      "metadata": {
        "id": "pHWd8krr_esv"
      },
      "outputs": [],
      "source": [
        "import transformers"
      ]
    },
    {
      "cell_type": "markdown",
      "source": [
        " * page : https://huggingface.co/course/fr/chapter2/4?fw=tf\n",
        " * url : \n",
        "   * overview : https://www.youtube.com/watch?v=VFp38yj8h3A&ab_channel=HuggingFace\n",
        "   * word based : https://www.youtube.com/watch?v=nhJxYji1aho&ab_channel=HuggingFace\n",
        "   * character based : https://www.youtube.com/watch?v=ssLq_EK2jLE&ab_channel=HuggingFace\n",
        "   * subword based : https://www.youtube.com/watch?v=zHvTiHr506c&ab_channel=HuggingFace\n",
        "   * tokenization pipeline : https://www.youtube.com/watch?v=Yffk5aydLzg&ab_channel=HuggingFace"
      ],
      "metadata": {
        "id": "TOzdsaMh_iJB"
      }
    },
    {
      "cell_type": "markdown",
      "source": [
        "### Word Based Tokenizer\n",
        "\n",
        "C'est le plus naïf, il voit chaque mot comme un token. Ca donne des résultats relativement mauvais car le tokenizer créera une représentation complètement différentes de *chien* et *chiens*. Il existe des tokenizers word based plus ou moins fin quant à la gestion de la ponctuation. A remarquer qu'il existe un token appelé UNK qui sera la représentation de tout les mots qui ne figueront pas dans le vocabulaire."
      ],
      "metadata": {
        "id": "euxq6kMcAL7v"
      }
    },
    {
      "cell_type": "markdown",
      "source": [
        "### Character Based Tokenizer\n",
        " * Avantages : \n",
        "   * Vocabulaire restreint\n",
        "   * Très peu de unknown tokens\n",
        "   * Pour certaines langues comme le chinois dans laquelle chaque caractère est un mot, cela est particulièrement approprié\n",
        " * Défauts :\n",
        "   * Perte de sens, chaque caractère ne possède pas de sens particulier\n",
        "   * très grand nombre de tokens a traiter\n",
        "\n",
        "### Subword Based Tokenizer\n",
        "Le tokenizer exploite l'idée selon laquelle les mots peuvent être splittés en subwords. L'intérêt est triple :  \n",
        " * Diminution du vocabulaire\n",
        " * Diminution du nombre de token UNK\n",
        " * Bonne appréciation des mots grâce aux suffixes et préfixes. Par exemple *maisonette* sera décomposé en deux tokens *maison* + *ette*\n",
        "\n",
        "Cette forme de tokenization est particulierement utile dans les langues dites *agglutinantes* comme l'hébreu ou le turc\n"
      ],
      "metadata": {
        "id": "L5UhhchSCcmA"
      }
    },
    {
      "cell_type": "markdown",
      "source": [
        "# Chargement et Sauvegarde de Tokenizer\n",
        "\n",
        "Un tokenizer est dans l'écosysteme de HuggingFace un peu comme un modèle. On peut le charger, le sauvegarder. Il possède un algorithme semblable à l'architecture d'un modèle et un vocabulaire semblable aux poids d'un modèle. Ainsi, le chargement et la sauvegarde d'un modèle s'effectuent en utilisant les mêmes méthodes que pour les modèles.\n",
        "\n",
        "```python\n",
        "from transformers import AutoTokenizer\n",
        "tokenizer = AutoTokenizer.from_pretrained(\"bert-base-cased\")\n",
        "\n",
        "from transformers import BertTokenizer\n",
        "tokenizer = BertTokenizer.from_pretrained(\"bert-base-cased\")\n",
        "\n",
        "# Similairement aux modèles, on peut soit utiliser la méthode agnostique ou bien la méthode spécifique\n",
        "\n",
        "\n",
        "tokenizer.save_pretrained(\"directory_on_my_computer\")\n",
        "# Similaire au modèle\n",
        "```"
      ],
      "metadata": {
        "id": "rhMVHWfELB03"
      }
    },
    {
      "cell_type": "markdown",
      "source": [
        "## Les opérations sous le boisseau d'un tokenizer\n",
        "\n",
        "Un tokenizer dispose de plusieurs opérations :\n",
        " * La création des strings tokenized avec la méthode `.tokenize()`\n",
        " * Le mapping des strings tokenized vers des entiers IDs via la méthode `convert_tokens_to_ids.()`\n",
        " * Le reverse mapping, des entiers vers les strings tokenized, particulièrement utile lors du postprocessing, via `decode.()`\n"
      ],
      "metadata": {
        "id": "vOdL7JhGRkkG"
      }
    },
    {
      "cell_type": "markdown",
      "source": [
        "#### Création des strings tokenized\n",
        "\n",
        "\n",
        "```python\n",
        "from transformers import AutoTokenizer\n",
        "\n",
        "tokenizer = AutoTokenizer.from_pretrained(\"bert-base-cased\")\n",
        "\n",
        "sequence = \"Using a Transformer network is simple\"\n",
        "tokens = tokenizer.tokenize(sequence)\n",
        "\n",
        "print(tokens)\n",
        "```\n",
        "\n",
        "```python\n",
        "['Using', 'a', 'transform', '##er', 'network', 'is', 'simple']\n",
        "```\n",
        "\n",
        "#### Le Mapping des strings vers les entiers\n",
        "\n",
        "```python\n",
        "ids = tokenizer.convert_tokens_to_ids(tokens)\n",
        "\n",
        "print(ids)\n",
        "```\n",
        "\n",
        "```python\n",
        "[7993, 170, 11303, 1200, 2443, 1110, 3014]\n",
        "```\n",
        "\n",
        "#### Le Reverse Mapping des entiers vers une phrase\n",
        "\n",
        "```python\n",
        "decoded_string = tokenizer.decode([7993, 170, 11303, 1200, 2443, 1110, 3014])\n",
        "print(decoded_string)\n",
        "```\n",
        "\n",
        "```python\n",
        "'Using a Transformer network is simple'\n",
        "```"
      ],
      "metadata": {
        "id": "NYD7f9M6TDWk"
      }
    }
  ]
}