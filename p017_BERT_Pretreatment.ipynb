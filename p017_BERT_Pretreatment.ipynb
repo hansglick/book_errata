{
  "nbformat": 4,
  "nbformat_minor": 0,
  "metadata": {
    "colab": {
      "name": "p017_BERT_Pretreatment.ipynb",
      "provenance": [],
      "authorship_tag": "ABX9TyOku2HYJ1Du7000+2GYwYMh",
      "include_colab_link": true
    },
    "kernelspec": {
      "name": "python3",
      "display_name": "Python 3"
    },
    "language_info": {
      "name": "python"
    }
  },
  "cells": [
    {
      "cell_type": "markdown",
      "metadata": {
        "id": "view-in-github",
        "colab_type": "text"
      },
      "source": [
        "<a href=\"https://colab.research.google.com/github/hansglick/book_errata/blob/main/p017_BERT_Pretreatment.ipynb\" target=\"_parent\"><img src=\"https://colab.research.google.com/assets/colab-badge.svg\" alt=\"Open In Colab\"/></a>"
      ]
    },
    {
      "cell_type": "code",
      "source": [
        "pip install -q -U \"tensorflow-text==2.8.*\""
      ],
      "metadata": {
        "colab": {
          "base_uri": "https://localhost:8080/"
        },
        "id": "I_ETmlusm_7c",
        "outputId": "7466dee4-4b6b-4edb-8b9c-882cdac9a32e"
      },
      "execution_count": 2,
      "outputs": [
        {
          "output_type": "stream",
          "name": "stdout",
          "text": [
            "\u001b[K     |████████████████████████████████| 4.9 MB 8.4 MB/s \n",
            "\u001b[?25h"
          ]
        }
      ]
    },
    {
      "cell_type": "code",
      "source": [
        "import tensorflow_text as text\n",
        "import functools\n",
        "import tensorflow as tf\n",
        "print(tf.__version__)"
      ],
      "metadata": {
        "colab": {
          "base_uri": "https://localhost:8080/"
        },
        "id": "yGJBBy-7pq7y",
        "outputId": "6bc9057a-5201-40d9-9231-17b6477947ae"
      },
      "execution_count": 3,
      "outputs": [
        {
          "output_type": "stream",
          "name": "stdout",
          "text": [
            "2.8.2\n"
          ]
        }
      ]
    },
    {
      "cell_type": "markdown",
      "source": [
        "# Objectif\n",
        "L'objectif du notebook est le pretraitement de texte brute afin qu'il puisse servir d'inputsà des réseaux de neurones, plus particulièrement les prétraitement utilisés pour l'apprentissage du modèle de BERT"
      ],
      "metadata": {
        "id": "VLncxS7Opcq2"
      }
    },
    {
      "cell_type": "markdown",
      "source": [
        "# Data"
      ],
      "metadata": {
        "id": "IkSwaBNIwbd4"
      }
    },
    {
      "cell_type": "code",
      "source": [
        "examples = {\n",
        "    \"text_a\": [\n",
        "      \"Sponge bob Squarepants is an Avenger\",\n",
        "      \"Marvel Avengers\"\n",
        "    ],\n",
        "    \"text_b\": [\n",
        "     \"Barack Obama is the President.\",\n",
        "     \"President is the highest office\"\n",
        "  ],\n",
        "}\n",
        "\n",
        "dataset = tf.data.Dataset.from_tensor_slices(examples)"
      ],
      "metadata": {
        "id": "z63Ndbr1wYEO"
      },
      "execution_count": 4,
      "outputs": []
    },
    {
      "cell_type": "markdown",
      "source": [
        " * Le **BERT Tokenizer** :\n",
        "   * Il faut construire une LookUpTable via `tf.lookup.StaticVocabularyTable`\n",
        "   * La LookUpTable prend en entrée un key initializer qu'on construit via `tf.lookup.KeyValueTensorInitializer`\n",
        "   * Ce KeyValue prend en entrée le VOCABULAIRE à savoir une liste de strings.\n",
        "     * Ce vocabulaire peut contenir, des specials tokens comme CLS, SEP, MASK, RANDOM, UNK\n",
        "     * Ce vocabulaire peut contenir les suffixes\n",
        "     * Ce vocabulaire contient également évidemment les mots\n",
        "  * Création du tokenize : `bert_tokenizer = text.BertTokenizer(lookup_table, token_out_type=tf.string)` . On peut également choisir `token_out=tf.int64`\n",
        "  * L'application du tokenizer produit un Ragged Tensor"
      ],
      "metadata": {
        "id": "DCn-tk3CrJU6"
      }
    },
    {
      "cell_type": "code",
      "source": [
        "# Définition du vocabulaire\n",
        "_VOCAB = [\n",
        "    b\"[UNK]\", b\"[MASK]\", b\"[RANDOM]\", b\"[CLS]\", b\"[SEP]\",\n",
        "    b\"##ack\", b\"##ama\", b\"##ger\", b\"##gers\", b\"##onge\", b\"##pants\",  b\"##uare\",\n",
        "    b\"##vel\", b\"##ven\", b\"an\", b\"A\", b\"Bar\", b\"Hates\", b\"Mar\", b\"Ob\",\n",
        "    b\"Patrick\", b\"President\", b\"Sp\", b\"Sq\", b\"bob\", b\"box\", b\"has\", b\"highest\",\n",
        "    b\"is\", b\"office\", b\"the\",\n",
        "]\n",
        "\n",
        "# KeyValue object\n",
        "kv_obj = tf.lookup.KeyValueTensorInitializer(\n",
        "      keys=_VOCAB,\n",
        "      key_dtype=tf.string,\n",
        "      values=tf.range(\n",
        "          tf.size(_VOCAB, out_type=tf.int64), dtype=tf.int64),\n",
        "          value_dtype=tf.int64\n",
        "        )\n",
        "\n",
        "# Création du lookup_table\n",
        "lookup_table = tf.lookup.StaticVocabularyTable(kv_obj,num_oov_buckets=1)\n",
        "\n",
        "# Création du Tokenizer\n",
        "#bert_tokenizer = text.BertTokenizer(lookup_table, token_out_type=tf.string)\n",
        "\n",
        "# Création du Tokenizer\n",
        "bert_tokenizer = text.BertTokenizer(lookup_table, token_out_type=tf.int64)\n",
        "\n",
        "# Application du Tokenizer\n",
        "a = bert_tokenizer.tokenize(examples[\"text_a\"])\n",
        "b = bert_tokenizer.tokenize(examples[\"text_b\"])\n",
        "\n",
        "print(a)\n",
        "print('')\n",
        "print(b)\n",
        "print('')\n",
        "\n",
        "# Réduction de la dimension 'token'\n",
        "a = a.merge_dims(-2, -1)\n",
        "b = b.merge_dims(-2, -1)\n",
        "print(a)\n",
        "print('')\n",
        "print(b)"
      ],
      "metadata": {
        "colab": {
          "base_uri": "https://localhost:8080/"
        },
        "id": "ZQ_FhA-uuYHh",
        "outputId": "f625f5eb-9941-4981-a625-fe41bec00af4"
      },
      "execution_count": 5,
      "outputs": [
        {
          "output_type": "stream",
          "name": "stdout",
          "text": [
            "<tf.RaggedTensor [[[22, 9], [24], [23, 11, 10], [28], [14], [15, 13, 7]],\n",
            " [[18, 12], [15, 13, 8]]]>\n",
            "\n",
            "<tf.RaggedTensor [[[16, 5], [19, 6], [28], [30], [21], [0]], [[21], [28], [30], [27], [29]]]>\n",
            "\n",
            "<tf.RaggedTensor [[22, 9, 24, 23, 11, 10, 28, 14, 15, 13, 7], [18, 12, 15, 13, 8]]>\n",
            "\n",
            "<tf.RaggedTensor [[16, 5, 19, 6, 28, 30, 21, 0], [21, 28, 30, 27, 29]]>\n"
          ]
        }
      ]
    },
    {
      "cell_type": "markdown",
      "source": [
        "![image.png](data:image/png;base64,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)\n"
      ],
      "metadata": {
        "id": "6gPDkdZn0zFZ"
      }
    },
    {
      "cell_type": "markdown",
      "source": [
        "\n",
        "# Parameters"
      ],
      "metadata": {
        "id": "5Q-qToN6w-J4"
      }
    },
    {
      "cell_type": "code",
      "source": [
        "# Parameters (useless pour le tokenizer)\n",
        "_START_TOKEN = _VOCAB.index(b\"[CLS]\")\n",
        "_END_TOKEN = _VOCAB.index(b\"[SEP]\")\n",
        "_MASK_TOKEN = _VOCAB.index(b\"[MASK]\")\n",
        "_RANDOM_TOKEN = _VOCAB.index(b\"[RANDOM]\")\n",
        "_UNK_TOKEN = _VOCAB.index(b\"[UNK]\")\n",
        "_MAX_SEQ_LEN = 8\n",
        "_MAX_PREDICTIONS_PER_BATCH = 5\n",
        "_VOCAB_SIZE = len(_VOCAB)"
      ],
      "metadata": {
        "id": "V4QsH2n9w_qZ"
      },
      "execution_count": 6,
      "outputs": []
    },
    {
      "cell_type": "markdown",
      "source": [
        " * Le **content trimming** :\n",
        "   * Les modèles comme BERT prennent des paires de phrases comme observations. Cependant, les phrases ne peuvent dépasser une certaine taille par exemple. Il faut donc tronquer ces phrases que ce soit à droite ou à gauche.\n",
        "   * `text.RoundRobinTrimmer(max_seq_length=_MAX_SEQ_LEN)` permet d'instancier un objet trimmer\n",
        "   * `obj.trm(string)` permet de trimer les sentences à savoir les tronquer à droite\n"
      ],
      "metadata": {
        "id": "cznWSF5x3SGl"
      }
    },
    {
      "cell_type": "code",
      "source": [
        "print(a)\n",
        "print(b)\n",
        "print('')\n",
        "trimmer = text.RoundRobinTrimmer(max_seq_length=_MAX_SEQ_LEN)\n",
        "trimmed = trimmer.trim([a, b])\n",
        "print(trimmed)\n",
        "print('')"
      ],
      "metadata": {
        "colab": {
          "base_uri": "https://localhost:8080/"
        },
        "id": "_TBUASXA5NSr",
        "outputId": "c4c534bb-10e7-4a0a-a5fb-ec79263277b9"
      },
      "execution_count": 7,
      "outputs": [
        {
          "output_type": "stream",
          "name": "stdout",
          "text": [
            "<tf.RaggedTensor [[22, 9, 24, 23, 11, 10, 28, 14, 15, 13, 7], [18, 12, 15, 13, 8]]>\n",
            "<tf.RaggedTensor [[16, 5, 19, 6, 28, 30, 21, 0], [21, 28, 30, 27, 29]]>\n",
            "\n",
            "[<tf.RaggedTensor [[22, 9, 24, 23],\n",
            " [18, 12, 15, 13]]>, <tf.RaggedTensor [[16, 5, 19, 6],\n",
            " [21, 28, 30, 27]]>]\n",
            "\n"
          ]
        }
      ]
    },
    {
      "cell_type": "markdown",
      "source": [
        " * Le **combining segment** :    \n",
        "   * En pratique la paire de sentences qui sert d'input est mergé et accompagné d'un vecteur informatif qui représente la première et la seconde phrase\n",
        "   * `text.combine_segments(trimmed,start_of_sequence_id=_START_TOKEN, end_of_segment_id=_END_TOKEN)` permet de faire cette combinaison\n",
        "   * La fonction renvoie le merging et le vecteur informatif\n",
        "   * La fonction ajoute également des END token, START token\n"
      ],
      "metadata": {
        "id": "zTL44Q8Z597D"
      }
    },
    {
      "cell_type": "code",
      "source": [
        "segments_combined, segments_ids = text.combine_segments(trimmed,\n",
        "                                                        start_of_sequence_id=_START_TOKEN,\n",
        "                                                        end_of_segment_id=_END_TOKEN)\n",
        "\n",
        "print(segments_combined)\n",
        "print(segments_ids)"
      ],
      "metadata": {
        "colab": {
          "base_uri": "https://localhost:8080/"
        },
        "id": "DSrXrD6i9M9c",
        "outputId": "401a050c-4434-40cf-8c60-fbbb53f408e4"
      },
      "execution_count": 8,
      "outputs": [
        {
          "output_type": "stream",
          "name": "stdout",
          "text": [
            "<tf.RaggedTensor [[3, 22, 9, 24, 23, 4, 16, 5, 19, 6, 4],\n",
            " [3, 18, 12, 15, 13, 4, 21, 28, 30, 27, 4]]>\n",
            "<tf.RaggedTensor [[0, 0, 0, 0, 0, 0, 1, 1, 1, 1, 1],\n",
            " [0, 0, 0, 0, 0, 0, 1, 1, 1, 1, 1]]>\n"
          ]
        }
      ]
    },
    {
      "cell_type": "markdown",
      "source": [
        " * **Sélection de Tokens** :    \n",
        "   * Dans les language models, on sélectionne des tokens qu'on va essayer de prédire via le model, c'est la raison pour laquelle un objet est nécessaire\n",
        "   * Création d'un objet RandomItemSelect via `text.RandomItemSelector()`\n",
        "     * `max_selections_per_batch` : le nombre max de tokens choisis ds un batch\n",
        "     * `selection_rate` : float entre 0 et 1 qui représente la fréquence à laquelle on sélectionne un item\n",
        "     * `unselectable_ids` : une liste d'entiers qui représente les token ids interdits comme ceux représentant START, END et UNK \n",
        "  * La méthode `.get_selection_mask()` d'un objet instancié RandomItemSelector renverra un batch de booléen où True indique la sélection de l'item"
      ],
      "metadata": {
        "id": "b5IDrfHOAtB1"
      }
    },
    {
      "cell_type": "code",
      "source": [
        "# Instanciation d'un objet randomitemselector\n",
        "random_selector = text.RandomItemSelector(\n",
        "    max_selections_per_batch=_MAX_PREDICTIONS_PER_BATCH,\n",
        "    selection_rate=0.2,\n",
        "    unselectable_ids=[_START_TOKEN, _END_TOKEN, _UNK_TOKEN]\n",
        ")\n",
        "\n",
        "# Sélection des item de segments_combined\n",
        "selected = random_selector.get_selection_mask(\n",
        "    segments_combined, axis=1)\n",
        "\n",
        "print(selected)"
      ],
      "metadata": {
        "colab": {
          "base_uri": "https://localhost:8080/"
        },
        "id": "eoPUc2FyFBPW",
        "outputId": "16a3f901-326e-47cb-9cc7-0907448cf135"
      },
      "execution_count": 9,
      "outputs": [
        {
          "output_type": "stream",
          "name": "stdout",
          "text": [
            "<tf.RaggedTensor [[False, True, False, False, False, False, False, True, False, False,\n",
            "  False],\n",
            " [False, False, True, False, True, False, False, False, False, False,\n",
            "  False]]>\n"
          ]
        }
      ]
    },
    {
      "cell_type": "markdown",
      "source": [
        " * le **Mask Values Chooser** :\n",
        "   * Il faut pouvoir choisir des tokens aléatoirement et les remplacer parfois par un autre token parfois la laisser tel quel\n",
        "   * Pour ce faire, on peut instancier un `text.MaskValuesChooser` object\n",
        "   * Puis l'appliquer sur un ragged tensor ou un tensor classique via la méthode `.get_mask_values()`\n",
        "   * J'ai dû mal à suivre pour l'instant le processus qu'on doit suivre ni comment doit s'emboîter le randomitemselector et le maskvalueschooser"
      ],
      "metadata": {
        "id": "hV61qOZOKchI"
      }
    },
    {
      "cell_type": "code",
      "source": [
        "mask_values_chooser = text.MaskValuesChooser(_VOCAB_SIZE, _MASK_TOKEN, 0.8)\n",
        "ex = mask_values_chooser.get_mask_values(segments_combined)\n",
        "print(_MASK_TOKEN)\n",
        "print(ex)"
      ],
      "metadata": {
        "colab": {
          "base_uri": "https://localhost:8080/"
        },
        "id": "Dm92gzJiJWQ2",
        "outputId": "d41212fb-2c27-49aa-d817-1f863b9e4ea7"
      },
      "execution_count": 10,
      "outputs": [
        {
          "output_type": "stream",
          "name": "stdout",
          "text": [
            "1\n",
            "<tf.RaggedTensor [[1, 1, 1, 1, 1, 1, 1, 1, 1, 1, 1],\n",
            " [1, 1, 1, 1, 1, 1, 1, 25, 1, 1, 1]]>\n"
          ]
        }
      ]
    },
    {
      "cell_type": "markdown",
      "source": [
        " * La fonction **mask_language_model** :\n",
        "   * Elle permet de combiner le `maskvaluechooser` et le `randomitemselector`\n",
        "   * Sélection aléatoire de tokens à masquer\n",
        "   * Ces masked tokens sont alors ou bien\n",
        "     * Modifiés en autre token (afin de s'assurer que le modèle peut comprendre globalement le sens d'une phrase même si certains mots font difficilement sens)\n",
        "     * Modifiés en < MASK > token\n",
        "     * Laissés inchangés\n",
        "   * Elle produit trois outputs :    \n",
        "     * `masked_input_ids` : c'est l'input modifié, i.e. l'input de départ avec les tokens modifiés ou pas (no change, mask token, modified token)    \n",
        "     * `masked_positions` : c'est la position des tokens qui ont été modifiés, i.e. ou bien des mask tokens ou bien des mots nouveaux\n",
        "     * `masked_ids` : c'est le valeur des tokens ids d'origine\n",
        "  * `tf.gather(_VOCAB, masked_token_ids)` : permet de décoder la phrase tokenisés\n",
        " "
      ],
      "metadata": {
        "id": "1otKhN3MJ2ui"
      }
    },
    {
      "cell_type": "code",
      "source": [
        "masked_token_ids, masked_pos, masked_lm_ids = text.mask_language_model(\n",
        "  segments_combined,\n",
        "  item_selector=random_selector, mask_values_chooser=mask_values_chooser)\n",
        "\n",
        "decoded_sentence = tf.gather(_VOCAB, masked_token_ids)\n",
        "\n",
        "print(segments_combined)\n",
        "print('')\n",
        "print(masked_token_ids)\n",
        "print('')\n",
        "print(masked_pos)\n",
        "print('')\n",
        "print(masked_lm_ids)\n",
        "print('')\n",
        "print(decoded_sentence)"
      ],
      "metadata": {
        "colab": {
          "base_uri": "https://localhost:8080/"
        },
        "id": "lWTkf3q5Nnvv",
        "outputId": "d69dd23b-7a92-4c8f-fb60-53480e0350d0"
      },
      "execution_count": 11,
      "outputs": [
        {
          "output_type": "stream",
          "name": "stdout",
          "text": [
            "<tf.RaggedTensor [[3, 22, 9, 24, 23, 4, 16, 5, 19, 6, 4],\n",
            " [3, 18, 12, 15, 13, 4, 21, 28, 30, 27, 4]]>\n",
            "\n",
            "<tf.RaggedTensor [[3, 22, 1, 24, 23, 4, 16, 1, 19, 6, 4],\n",
            " [3, 18, 1, 15, 13, 4, 21, 28, 30, 27, 4]]>\n",
            "\n",
            "<tf.RaggedTensor [[2, 7],\n",
            " [2, 4]]>\n",
            "\n",
            "<tf.RaggedTensor [[9, 5],\n",
            " [12, 13]]>\n",
            "\n",
            "<tf.RaggedTensor [[b'[CLS]', b'Sp', b'[MASK]', b'bob', b'Sq', b'[SEP]', b'Bar', b'[MASK]',\n",
            "  b'Ob', b'##ama', b'[SEP]'],\n",
            " [b'[CLS]', b'Mar', b'[MASK]', b'A', b'##ven', b'[SEP]', b'President',\n",
            "  b'is', b'the', b'highest', b'[SEP]']]>\n"
          ]
        }
      ]
    },
    {
      "cell_type": "markdown",
      "source": [
        " * le **padding** :\n",
        "   * Avec `text.pad_model_inputs()` permet de padder et de créer le mask correspondant à un tensor de tokens\n",
        "   * Il prend deux arguments, un `ragged tensor` et une `max_len` pour le padding\n",
        "   * Il produit un tuple de deux outputs `input_word_ids` et `input_mask` qui correspondent au tensor final et à son masque\n",
        "   * En pratique, on répète l'opération pour l'input original et le segment ids"
      ],
      "metadata": {
        "id": "yH9PSxKnNpLk"
      }
    },
    {
      "cell_type": "code",
      "source": [
        "# Prepare and pad combined segment inputs\n",
        "input_word_ids, input_mask = text.pad_model_inputs(\n",
        "  masked_token_ids, max_seq_length=_MAX_SEQ_LEN)\n",
        "input_type_ids, _ = text.pad_model_inputs(\n",
        "  segments_ids, max_seq_length=_MAX_SEQ_LEN)\n",
        "\n",
        "# Prepare and pad masking task inputs\n",
        "masked_lm_positions, masked_lm_weights = text.pad_model_inputs(\n",
        "  masked_pos, max_seq_length=_MAX_PREDICTIONS_PER_BATCH)\n",
        "masked_lm_ids, _ = text.pad_model_inputs(\n",
        "  masked_lm_ids, max_seq_length=_MAX_PREDICTIONS_PER_BATCH)\n",
        "\n",
        "model_inputs = {\n",
        "    \"input_word_ids\": input_word_ids, # le tensor d'entrée avec les modifs\n",
        "    \"input_mask\": input_mask, # le mask du padding 1 veut dire que c'est pas rembourrage\n",
        "    \"input_type_ids\": input_type_ids, # le vecteur informatif qui représente la phrase 1 et la phrase 2\n",
        "    \"masked_lm_ids\": masked_lm_ids, # les tokens id à prédire\n",
        "    \"masked_lm_positions\": masked_lm_positions, # les places des tokens a prevoir\n",
        "    \"masked_lm_weights\": masked_lm_weights, # les masks des tokens à prédire 1 signifie token à prédire, 0 sinon\n",
        "}\n",
        "model_inputs"
      ],
      "metadata": {
        "colab": {
          "base_uri": "https://localhost:8080/"
        },
        "id": "5SK_X8B7Sg6o",
        "outputId": "d41e3fa0-10f5-43f1-9422-31199f13b66d"
      },
      "execution_count": 12,
      "outputs": [
        {
          "output_type": "execute_result",
          "data": {
            "text/plain": [
              "{'input_mask': <tf.Tensor: shape=(2, 8), dtype=int64, numpy=\n",
              " array([[1, 1, 1, 1, 1, 1, 1, 1],\n",
              "        [1, 1, 1, 1, 1, 1, 1, 1]])>,\n",
              " 'input_type_ids': <tf.Tensor: shape=(2, 8), dtype=int64, numpy=\n",
              " array([[0, 0, 0, 0, 0, 0, 1, 1],\n",
              "        [0, 0, 0, 0, 0, 0, 1, 1]])>,\n",
              " 'input_word_ids': <tf.Tensor: shape=(2, 8), dtype=int64, numpy=\n",
              " array([[ 3, 22,  1, 24, 23,  4, 16,  1],\n",
              "        [ 3, 18,  1, 15, 13,  4, 21, 28]])>,\n",
              " 'masked_lm_ids': <tf.Tensor: shape=(2, 5), dtype=int64, numpy=\n",
              " array([[ 9,  5,  0,  0,  0],\n",
              "        [12, 13,  0,  0,  0]])>,\n",
              " 'masked_lm_positions': <tf.Tensor: shape=(2, 5), dtype=int64, numpy=\n",
              " array([[2, 7, 0, 0, 0],\n",
              "        [2, 4, 0, 0, 0]])>,\n",
              " 'masked_lm_weights': <tf.Tensor: shape=(2, 5), dtype=int64, numpy=\n",
              " array([[1, 1, 0, 0, 0],\n",
              "        [1, 1, 0, 0, 0]])>}"
            ]
          },
          "metadata": {},
          "execution_count": 12
        }
      ]
    },
    {
      "cell_type": "code",
      "source": [
        "def bert_pretrain_preprocess(vocab_table, features):\n",
        "  # Input is a string Tensor of documents, shape [batch, 1].\n",
        "  text_a = features[\"text_a\"]\n",
        "  text_b = features[\"text_b\"]\n",
        "\n",
        "  # Tokenize segments to shape [num_sentences, (num_words)] each.\n",
        "  tokenizer = text.BertTokenizer(\n",
        "      vocab_table,\n",
        "      token_out_type=tf.int64)\n",
        "  segments = [tokenizer.tokenize(text).merge_dims(\n",
        "      1, -1) for text in (text_a, text_b)]\n",
        "\n",
        "  # Truncate inputs to a maximum length.\n",
        "  trimmer = text.RoundRobinTrimmer(max_seq_length=6)\n",
        "  trimmed_segments = trimmer.trim(segments)\n",
        "\n",
        "  # Combine segments, get segment ids and add special tokens.\n",
        "  segments_combined, segment_ids = text.combine_segments(\n",
        "      trimmed_segments,\n",
        "      start_of_sequence_id=_START_TOKEN,\n",
        "      end_of_segment_id=_END_TOKEN)\n",
        "\n",
        "  # Apply dynamic masking task.\n",
        "  masked_input_ids, masked_lm_positions, masked_lm_ids = (\n",
        "      text.mask_language_model(\n",
        "        segments_combined,\n",
        "        random_selector,\n",
        "        mask_values_chooser,\n",
        "      )\n",
        "  )\n",
        "\n",
        "  # Prepare and pad combined segment inputs\n",
        "  input_word_ids, input_mask = text.pad_model_inputs(\n",
        "    masked_input_ids, max_seq_length=_MAX_SEQ_LEN)\n",
        "  input_type_ids, _ = text.pad_model_inputs(\n",
        "    segment_ids, max_seq_length=_MAX_SEQ_LEN)\n",
        "\n",
        "  # Prepare and pad masking task inputs\n",
        "  masked_lm_positions, masked_lm_weights = text.pad_model_inputs(\n",
        "    masked_lm_positions, max_seq_length=_MAX_PREDICTIONS_PER_BATCH)\n",
        "  masked_lm_ids, _ = text.pad_model_inputs(\n",
        "    masked_lm_ids, max_seq_length=_MAX_PREDICTIONS_PER_BATCH)\n",
        "\n",
        "  model_inputs = {\n",
        "      \"input_word_ids\": input_word_ids,\n",
        "      \"input_mask\": input_mask,\n",
        "      \"input_type_ids\": input_type_ids,\n",
        "      \"masked_lm_ids\": masked_lm_ids,\n",
        "      \"masked_lm_positions\": masked_lm_positions,\n",
        "      \"masked_lm_weights\": masked_lm_weights,\n",
        "  }\n",
        "  return model_inputs"
      ],
      "metadata": {
        "id": "EvDYqNUFa9n7"
      },
      "execution_count": 13,
      "outputs": []
    },
    {
      "cell_type": "code",
      "source": [
        "dataset = tf.data.Dataset.from_tensors(examples)\n",
        "dataset = dataset.map(functools.partial(\n",
        "    bert_pretrain_preprocess, lookup_table))\n",
        "\n",
        "next(iter(dataset))"
      ],
      "metadata": {
        "colab": {
          "base_uri": "https://localhost:8080/"
        },
        "id": "J61JHRSzbCZg",
        "outputId": "903136e1-0e69-426e-9542-d133143dbff4"
      },
      "execution_count": 14,
      "outputs": [
        {
          "output_type": "execute_result",
          "data": {
            "text/plain": [
              "{'input_mask': <tf.Tensor: shape=(2, 8), dtype=int64, numpy=\n",
              " array([[1, 1, 1, 1, 1, 1, 1, 1],\n",
              "        [1, 1, 1, 1, 1, 1, 1, 1]])>,\n",
              " 'input_type_ids': <tf.Tensor: shape=(2, 8), dtype=int64, numpy=\n",
              " array([[0, 0, 0, 0, 0, 1, 1, 1],\n",
              "        [0, 0, 0, 0, 0, 1, 1, 1]])>,\n",
              " 'input_word_ids': <tf.Tensor: shape=(2, 8), dtype=int64, numpy=\n",
              " array([[ 3,  1,  9, 24,  4,  1,  5, 19],\n",
              "        [ 3, 18,  1, 15,  4, 21, 28,  0]])>,\n",
              " 'masked_lm_ids': <tf.Tensor: shape=(2, 5), dtype=int64, numpy=\n",
              " array([[22, 16,  0,  0,  0],\n",
              "        [12, 30,  0,  0,  0]])>,\n",
              " 'masked_lm_positions': <tf.Tensor: shape=(2, 5), dtype=int64, numpy=\n",
              " array([[1, 5, 0, 0, 0],\n",
              "        [2, 7, 0, 0, 0]])>,\n",
              " 'masked_lm_weights': <tf.Tensor: shape=(2, 5), dtype=int64, numpy=\n",
              " array([[1, 1, 0, 0, 0],\n",
              "        [1, 1, 0, 0, 0]])>}"
            ]
          },
          "metadata": {},
          "execution_count": 14
        }
      ]
    },
    {
      "cell_type": "code",
      "source": [
        "# A savoir\n",
        "# On peut merge un ragged tensor avec la méthode .merge_dims()\n"
      ],
      "metadata": {
        "id": "-OJqbIdu1RCd"
      },
      "execution_count": null,
      "outputs": []
    }
  ]
}